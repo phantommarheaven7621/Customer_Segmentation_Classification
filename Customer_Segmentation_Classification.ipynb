{
 "cells": [
  {
   "cell_type": "code",
   "execution_count": 1,
   "id": "0a69db91",
   "metadata": {},
   "outputs": [],
   "source": [
    "import numpy as np\n",
    "import pandas as pd\n",
    "pd.options.mode.chained_assignment = None"
   ]
  },
  {
   "cell_type": "code",
   "execution_count": 2,
   "id": "64ddbf6b",
   "metadata": {},
   "outputs": [],
   "source": [
    "train = pd.read_csv('Train.csv')\n",
    "test = pd.read_csv('Test.csv')"
   ]
  },
  {
   "cell_type": "code",
   "execution_count": 3,
   "id": "64bd0ca9",
   "metadata": {
    "scrolled": true
   },
   "outputs": [
    {
     "data": {
      "text/html": [
       "<div>\n",
       "<style scoped>\n",
       "    .dataframe tbody tr th:only-of-type {\n",
       "        vertical-align: middle;\n",
       "    }\n",
       "\n",
       "    .dataframe tbody tr th {\n",
       "        vertical-align: top;\n",
       "    }\n",
       "\n",
       "    .dataframe thead th {\n",
       "        text-align: right;\n",
       "    }\n",
       "</style>\n",
       "<table border=\"1\" class=\"dataframe\">\n",
       "  <thead>\n",
       "    <tr style=\"text-align: right;\">\n",
       "      <th></th>\n",
       "      <th>ID</th>\n",
       "      <th>Gender</th>\n",
       "      <th>Ever_Married</th>\n",
       "      <th>Age</th>\n",
       "      <th>Graduated</th>\n",
       "      <th>Profession</th>\n",
       "      <th>Work_Experience</th>\n",
       "      <th>Spending_Score</th>\n",
       "      <th>Family_Size</th>\n",
       "      <th>Var_1</th>\n",
       "      <th>Segmentation</th>\n",
       "    </tr>\n",
       "  </thead>\n",
       "  <tbody>\n",
       "    <tr>\n",
       "      <th>0</th>\n",
       "      <td>462809</td>\n",
       "      <td>Male</td>\n",
       "      <td>No</td>\n",
       "      <td>22</td>\n",
       "      <td>No</td>\n",
       "      <td>Healthcare</td>\n",
       "      <td>1.0</td>\n",
       "      <td>Low</td>\n",
       "      <td>4.0</td>\n",
       "      <td>Cat_4</td>\n",
       "      <td>D</td>\n",
       "    </tr>\n",
       "    <tr>\n",
       "      <th>1</th>\n",
       "      <td>462643</td>\n",
       "      <td>Female</td>\n",
       "      <td>Yes</td>\n",
       "      <td>38</td>\n",
       "      <td>Yes</td>\n",
       "      <td>Engineer</td>\n",
       "      <td>NaN</td>\n",
       "      <td>Average</td>\n",
       "      <td>3.0</td>\n",
       "      <td>Cat_4</td>\n",
       "      <td>A</td>\n",
       "    </tr>\n",
       "    <tr>\n",
       "      <th>2</th>\n",
       "      <td>466315</td>\n",
       "      <td>Female</td>\n",
       "      <td>Yes</td>\n",
       "      <td>67</td>\n",
       "      <td>Yes</td>\n",
       "      <td>Engineer</td>\n",
       "      <td>1.0</td>\n",
       "      <td>Low</td>\n",
       "      <td>1.0</td>\n",
       "      <td>Cat_6</td>\n",
       "      <td>B</td>\n",
       "    </tr>\n",
       "    <tr>\n",
       "      <th>3</th>\n",
       "      <td>461735</td>\n",
       "      <td>Male</td>\n",
       "      <td>Yes</td>\n",
       "      <td>67</td>\n",
       "      <td>Yes</td>\n",
       "      <td>Lawyer</td>\n",
       "      <td>0.0</td>\n",
       "      <td>High</td>\n",
       "      <td>2.0</td>\n",
       "      <td>Cat_6</td>\n",
       "      <td>B</td>\n",
       "    </tr>\n",
       "    <tr>\n",
       "      <th>4</th>\n",
       "      <td>462669</td>\n",
       "      <td>Female</td>\n",
       "      <td>Yes</td>\n",
       "      <td>40</td>\n",
       "      <td>Yes</td>\n",
       "      <td>Entertainment</td>\n",
       "      <td>NaN</td>\n",
       "      <td>High</td>\n",
       "      <td>6.0</td>\n",
       "      <td>Cat_6</td>\n",
       "      <td>A</td>\n",
       "    </tr>\n",
       "  </tbody>\n",
       "</table>\n",
       "</div>"
      ],
      "text/plain": [
       "       ID  Gender Ever_Married  Age Graduated     Profession  Work_Experience  \\\n",
       "0  462809    Male           No   22        No     Healthcare              1.0   \n",
       "1  462643  Female          Yes   38       Yes       Engineer              NaN   \n",
       "2  466315  Female          Yes   67       Yes       Engineer              1.0   \n",
       "3  461735    Male          Yes   67       Yes         Lawyer              0.0   \n",
       "4  462669  Female          Yes   40       Yes  Entertainment              NaN   \n",
       "\n",
       "  Spending_Score  Family_Size  Var_1 Segmentation  \n",
       "0            Low          4.0  Cat_4            D  \n",
       "1        Average          3.0  Cat_4            A  \n",
       "2            Low          1.0  Cat_6            B  \n",
       "3           High          2.0  Cat_6            B  \n",
       "4           High          6.0  Cat_6            A  "
      ]
     },
     "execution_count": 3,
     "metadata": {},
     "output_type": "execute_result"
    }
   ],
   "source": [
    "train.head()"
   ]
  },
  {
   "cell_type": "code",
   "execution_count": 4,
   "id": "b1f0da46",
   "metadata": {
    "scrolled": false
   },
   "outputs": [
    {
     "data": {
      "text/html": [
       "<div>\n",
       "<style scoped>\n",
       "    .dataframe tbody tr th:only-of-type {\n",
       "        vertical-align: middle;\n",
       "    }\n",
       "\n",
       "    .dataframe tbody tr th {\n",
       "        vertical-align: top;\n",
       "    }\n",
       "\n",
       "    .dataframe thead th {\n",
       "        text-align: right;\n",
       "    }\n",
       "</style>\n",
       "<table border=\"1\" class=\"dataframe\">\n",
       "  <thead>\n",
       "    <tr style=\"text-align: right;\">\n",
       "      <th></th>\n",
       "      <th>ID</th>\n",
       "      <th>Gender</th>\n",
       "      <th>Ever_Married</th>\n",
       "      <th>Age</th>\n",
       "      <th>Graduated</th>\n",
       "      <th>Profession</th>\n",
       "      <th>Work_Experience</th>\n",
       "      <th>Spending_Score</th>\n",
       "      <th>Family_Size</th>\n",
       "      <th>Var_1</th>\n",
       "      <th>Segmentation</th>\n",
       "    </tr>\n",
       "  </thead>\n",
       "  <tbody>\n",
       "    <tr>\n",
       "      <th>0</th>\n",
       "      <td>458989</td>\n",
       "      <td>Female</td>\n",
       "      <td>Yes</td>\n",
       "      <td>36</td>\n",
       "      <td>Yes</td>\n",
       "      <td>Engineer</td>\n",
       "      <td>0.0</td>\n",
       "      <td>Low</td>\n",
       "      <td>1.0</td>\n",
       "      <td>Cat_6</td>\n",
       "      <td>B</td>\n",
       "    </tr>\n",
       "    <tr>\n",
       "      <th>1</th>\n",
       "      <td>458994</td>\n",
       "      <td>Male</td>\n",
       "      <td>Yes</td>\n",
       "      <td>37</td>\n",
       "      <td>Yes</td>\n",
       "      <td>Healthcare</td>\n",
       "      <td>8.0</td>\n",
       "      <td>Average</td>\n",
       "      <td>4.0</td>\n",
       "      <td>Cat_6</td>\n",
       "      <td>A</td>\n",
       "    </tr>\n",
       "    <tr>\n",
       "      <th>2</th>\n",
       "      <td>458996</td>\n",
       "      <td>Female</td>\n",
       "      <td>Yes</td>\n",
       "      <td>69</td>\n",
       "      <td>No</td>\n",
       "      <td>NaN</td>\n",
       "      <td>0.0</td>\n",
       "      <td>Low</td>\n",
       "      <td>1.0</td>\n",
       "      <td>Cat_6</td>\n",
       "      <td>A</td>\n",
       "    </tr>\n",
       "    <tr>\n",
       "      <th>3</th>\n",
       "      <td>459000</td>\n",
       "      <td>Male</td>\n",
       "      <td>Yes</td>\n",
       "      <td>59</td>\n",
       "      <td>No</td>\n",
       "      <td>Executive</td>\n",
       "      <td>11.0</td>\n",
       "      <td>High</td>\n",
       "      <td>2.0</td>\n",
       "      <td>Cat_6</td>\n",
       "      <td>B</td>\n",
       "    </tr>\n",
       "    <tr>\n",
       "      <th>4</th>\n",
       "      <td>459001</td>\n",
       "      <td>Female</td>\n",
       "      <td>No</td>\n",
       "      <td>19</td>\n",
       "      <td>No</td>\n",
       "      <td>Marketing</td>\n",
       "      <td>NaN</td>\n",
       "      <td>Low</td>\n",
       "      <td>4.0</td>\n",
       "      <td>Cat_6</td>\n",
       "      <td>A</td>\n",
       "    </tr>\n",
       "  </tbody>\n",
       "</table>\n",
       "</div>"
      ],
      "text/plain": [
       "       ID  Gender Ever_Married  Age Graduated  Profession  Work_Experience  \\\n",
       "0  458989  Female          Yes   36       Yes    Engineer              0.0   \n",
       "1  458994    Male          Yes   37       Yes  Healthcare              8.0   \n",
       "2  458996  Female          Yes   69        No         NaN              0.0   \n",
       "3  459000    Male          Yes   59        No   Executive             11.0   \n",
       "4  459001  Female           No   19        No   Marketing              NaN   \n",
       "\n",
       "  Spending_Score  Family_Size  Var_1 Segmentation  \n",
       "0            Low          1.0  Cat_6            B  \n",
       "1        Average          4.0  Cat_6            A  \n",
       "2            Low          1.0  Cat_6            A  \n",
       "3           High          2.0  Cat_6            B  \n",
       "4            Low          4.0  Cat_6            A  "
      ]
     },
     "execution_count": 4,
     "metadata": {},
     "output_type": "execute_result"
    }
   ],
   "source": [
    "test.head()"
   ]
  },
  {
   "cell_type": "code",
   "execution_count": 5,
   "id": "3e1a0664",
   "metadata": {},
   "outputs": [],
   "source": [
    "ID_train = train['ID']\n",
    "ID_test = test['ID']"
   ]
  },
  {
   "cell_type": "code",
   "execution_count": 6,
   "id": "92cbc53d",
   "metadata": {},
   "outputs": [],
   "source": [
    "train['Train_Test'] = 0\n",
    "test['Train_Test'] = 1"
   ]
  },
  {
   "cell_type": "code",
   "execution_count": 7,
   "id": "d167895d",
   "metadata": {},
   "outputs": [],
   "source": [
    "df = pd.concat([train, test], ignore_index=True)"
   ]
  },
  {
   "cell_type": "code",
   "execution_count": 8,
   "id": "02d19963",
   "metadata": {},
   "outputs": [
    {
     "data": {
      "text/html": [
       "<div>\n",
       "<style scoped>\n",
       "    .dataframe tbody tr th:only-of-type {\n",
       "        vertical-align: middle;\n",
       "    }\n",
       "\n",
       "    .dataframe tbody tr th {\n",
       "        vertical-align: top;\n",
       "    }\n",
       "\n",
       "    .dataframe thead th {\n",
       "        text-align: right;\n",
       "    }\n",
       "</style>\n",
       "<table border=\"1\" class=\"dataframe\">\n",
       "  <thead>\n",
       "    <tr style=\"text-align: right;\">\n",
       "      <th></th>\n",
       "      <th>ID</th>\n",
       "      <th>Gender</th>\n",
       "      <th>Ever_Married</th>\n",
       "      <th>Age</th>\n",
       "      <th>Graduated</th>\n",
       "      <th>Profession</th>\n",
       "      <th>Work_Experience</th>\n",
       "      <th>Spending_Score</th>\n",
       "      <th>Family_Size</th>\n",
       "      <th>Var_1</th>\n",
       "      <th>Segmentation</th>\n",
       "      <th>Train_Test</th>\n",
       "    </tr>\n",
       "  </thead>\n",
       "  <tbody>\n",
       "    <tr>\n",
       "      <th>0</th>\n",
       "      <td>462809</td>\n",
       "      <td>Male</td>\n",
       "      <td>No</td>\n",
       "      <td>22</td>\n",
       "      <td>No</td>\n",
       "      <td>Healthcare</td>\n",
       "      <td>1.0</td>\n",
       "      <td>Low</td>\n",
       "      <td>4.0</td>\n",
       "      <td>Cat_4</td>\n",
       "      <td>D</td>\n",
       "      <td>0</td>\n",
       "    </tr>\n",
       "    <tr>\n",
       "      <th>1</th>\n",
       "      <td>462643</td>\n",
       "      <td>Female</td>\n",
       "      <td>Yes</td>\n",
       "      <td>38</td>\n",
       "      <td>Yes</td>\n",
       "      <td>Engineer</td>\n",
       "      <td>NaN</td>\n",
       "      <td>Average</td>\n",
       "      <td>3.0</td>\n",
       "      <td>Cat_4</td>\n",
       "      <td>A</td>\n",
       "      <td>0</td>\n",
       "    </tr>\n",
       "    <tr>\n",
       "      <th>2</th>\n",
       "      <td>466315</td>\n",
       "      <td>Female</td>\n",
       "      <td>Yes</td>\n",
       "      <td>67</td>\n",
       "      <td>Yes</td>\n",
       "      <td>Engineer</td>\n",
       "      <td>1.0</td>\n",
       "      <td>Low</td>\n",
       "      <td>1.0</td>\n",
       "      <td>Cat_6</td>\n",
       "      <td>B</td>\n",
       "      <td>0</td>\n",
       "    </tr>\n",
       "    <tr>\n",
       "      <th>3</th>\n",
       "      <td>461735</td>\n",
       "      <td>Male</td>\n",
       "      <td>Yes</td>\n",
       "      <td>67</td>\n",
       "      <td>Yes</td>\n",
       "      <td>Lawyer</td>\n",
       "      <td>0.0</td>\n",
       "      <td>High</td>\n",
       "      <td>2.0</td>\n",
       "      <td>Cat_6</td>\n",
       "      <td>B</td>\n",
       "      <td>0</td>\n",
       "    </tr>\n",
       "    <tr>\n",
       "      <th>4</th>\n",
       "      <td>462669</td>\n",
       "      <td>Female</td>\n",
       "      <td>Yes</td>\n",
       "      <td>40</td>\n",
       "      <td>Yes</td>\n",
       "      <td>Entertainment</td>\n",
       "      <td>NaN</td>\n",
       "      <td>High</td>\n",
       "      <td>6.0</td>\n",
       "      <td>Cat_6</td>\n",
       "      <td>A</td>\n",
       "      <td>0</td>\n",
       "    </tr>\n",
       "    <tr>\n",
       "      <th>...</th>\n",
       "      <td>...</td>\n",
       "      <td>...</td>\n",
       "      <td>...</td>\n",
       "      <td>...</td>\n",
       "      <td>...</td>\n",
       "      <td>...</td>\n",
       "      <td>...</td>\n",
       "      <td>...</td>\n",
       "      <td>...</td>\n",
       "      <td>...</td>\n",
       "      <td>...</td>\n",
       "      <td>...</td>\n",
       "    </tr>\n",
       "    <tr>\n",
       "      <th>10690</th>\n",
       "      <td>467954</td>\n",
       "      <td>Male</td>\n",
       "      <td>No</td>\n",
       "      <td>29</td>\n",
       "      <td>No</td>\n",
       "      <td>Healthcare</td>\n",
       "      <td>9.0</td>\n",
       "      <td>Low</td>\n",
       "      <td>4.0</td>\n",
       "      <td>Cat_6</td>\n",
       "      <td>B</td>\n",
       "      <td>1</td>\n",
       "    </tr>\n",
       "    <tr>\n",
       "      <th>10691</th>\n",
       "      <td>467958</td>\n",
       "      <td>Female</td>\n",
       "      <td>No</td>\n",
       "      <td>35</td>\n",
       "      <td>Yes</td>\n",
       "      <td>Doctor</td>\n",
       "      <td>1.0</td>\n",
       "      <td>Low</td>\n",
       "      <td>1.0</td>\n",
       "      <td>Cat_6</td>\n",
       "      <td>A</td>\n",
       "      <td>1</td>\n",
       "    </tr>\n",
       "    <tr>\n",
       "      <th>10692</th>\n",
       "      <td>467960</td>\n",
       "      <td>Female</td>\n",
       "      <td>No</td>\n",
       "      <td>53</td>\n",
       "      <td>Yes</td>\n",
       "      <td>Entertainment</td>\n",
       "      <td>NaN</td>\n",
       "      <td>Low</td>\n",
       "      <td>2.0</td>\n",
       "      <td>Cat_6</td>\n",
       "      <td>C</td>\n",
       "      <td>1</td>\n",
       "    </tr>\n",
       "    <tr>\n",
       "      <th>10693</th>\n",
       "      <td>467961</td>\n",
       "      <td>Male</td>\n",
       "      <td>Yes</td>\n",
       "      <td>47</td>\n",
       "      <td>Yes</td>\n",
       "      <td>Executive</td>\n",
       "      <td>1.0</td>\n",
       "      <td>High</td>\n",
       "      <td>5.0</td>\n",
       "      <td>Cat_4</td>\n",
       "      <td>C</td>\n",
       "      <td>1</td>\n",
       "    </tr>\n",
       "    <tr>\n",
       "      <th>10694</th>\n",
       "      <td>467968</td>\n",
       "      <td>Female</td>\n",
       "      <td>No</td>\n",
       "      <td>43</td>\n",
       "      <td>Yes</td>\n",
       "      <td>Healthcare</td>\n",
       "      <td>9.0</td>\n",
       "      <td>Low</td>\n",
       "      <td>3.0</td>\n",
       "      <td>Cat_7</td>\n",
       "      <td>A</td>\n",
       "      <td>1</td>\n",
       "    </tr>\n",
       "  </tbody>\n",
       "</table>\n",
       "<p>10695 rows × 12 columns</p>\n",
       "</div>"
      ],
      "text/plain": [
       "           ID  Gender Ever_Married  Age Graduated     Profession  \\\n",
       "0      462809    Male           No   22        No     Healthcare   \n",
       "1      462643  Female          Yes   38       Yes       Engineer   \n",
       "2      466315  Female          Yes   67       Yes       Engineer   \n",
       "3      461735    Male          Yes   67       Yes         Lawyer   \n",
       "4      462669  Female          Yes   40       Yes  Entertainment   \n",
       "...       ...     ...          ...  ...       ...            ...   \n",
       "10690  467954    Male           No   29        No     Healthcare   \n",
       "10691  467958  Female           No   35       Yes         Doctor   \n",
       "10692  467960  Female           No   53       Yes  Entertainment   \n",
       "10693  467961    Male          Yes   47       Yes      Executive   \n",
       "10694  467968  Female           No   43       Yes     Healthcare   \n",
       "\n",
       "       Work_Experience Spending_Score  Family_Size  Var_1 Segmentation  \\\n",
       "0                  1.0            Low          4.0  Cat_4            D   \n",
       "1                  NaN        Average          3.0  Cat_4            A   \n",
       "2                  1.0            Low          1.0  Cat_6            B   \n",
       "3                  0.0           High          2.0  Cat_6            B   \n",
       "4                  NaN           High          6.0  Cat_6            A   \n",
       "...                ...            ...          ...    ...          ...   \n",
       "10690              9.0            Low          4.0  Cat_6            B   \n",
       "10691              1.0            Low          1.0  Cat_6            A   \n",
       "10692              NaN            Low          2.0  Cat_6            C   \n",
       "10693              1.0           High          5.0  Cat_4            C   \n",
       "10694              9.0            Low          3.0  Cat_7            A   \n",
       "\n",
       "       Train_Test  \n",
       "0               0  \n",
       "1               0  \n",
       "2               0  \n",
       "3               0  \n",
       "4               0  \n",
       "...           ...  \n",
       "10690           1  \n",
       "10691           1  \n",
       "10692           1  \n",
       "10693           1  \n",
       "10694           1  \n",
       "\n",
       "[10695 rows x 12 columns]"
      ]
     },
     "execution_count": 8,
     "metadata": {},
     "output_type": "execute_result"
    }
   ],
   "source": [
    "df"
   ]
  },
  {
   "cell_type": "code",
   "execution_count": 9,
   "id": "edb413ea",
   "metadata": {},
   "outputs": [
    {
     "name": "stdout",
     "output_type": "stream",
     "text": [
      "<class 'pandas.core.frame.DataFrame'>\n",
      "RangeIndex: 10695 entries, 0 to 10694\n",
      "Data columns (total 12 columns):\n",
      " #   Column           Non-Null Count  Dtype  \n",
      "---  ------           --------------  -----  \n",
      " 0   ID               10695 non-null  int64  \n",
      " 1   Gender           10695 non-null  object \n",
      " 2   Ever_Married     10505 non-null  object \n",
      " 3   Age              10695 non-null  int64  \n",
      " 4   Graduated        10593 non-null  object \n",
      " 5   Profession       10533 non-null  object \n",
      " 6   Work_Experience  9597 non-null   float64\n",
      " 7   Spending_Score   10695 non-null  object \n",
      " 8   Family_Size      10247 non-null  float64\n",
      " 9   Var_1            10587 non-null  object \n",
      " 10  Segmentation     10695 non-null  object \n",
      " 11  Train_Test       10695 non-null  int64  \n",
      "dtypes: float64(2), int64(3), object(7)\n",
      "memory usage: 1002.8+ KB\n"
     ]
    }
   ],
   "source": [
    "df.info()"
   ]
  },
  {
   "cell_type": "markdown",
   "id": "22740390",
   "metadata": {},
   "source": [
    "# Plan\n",
    "- Get used to the data\n",
    "- Data clearning\n",
    "- Exploratory data analysis\n",
    "- Check whether the target is skewed.\n",
    "- Handle missing values\n",
    "- Handle outliers\n",
    "- Check correlation between numerical variables\n",
    "- Add features if needed\n",
    "- Skewed data\n",
    "- Scale data\n",
    "- Get dummies and label encoding\n",
    "- Train-Test-Val split\n",
    "- Train model"
   ]
  },
  {
   "cell_type": "markdown",
   "id": "92bbc8ba",
   "metadata": {},
   "source": [
    "# Get used to the data"
   ]
  },
  {
   "cell_type": "code",
   "execution_count": 10,
   "id": "c2400ad8",
   "metadata": {},
   "outputs": [
    {
     "name": "stdout",
     "output_type": "stream",
     "text": [
      "### ID :\n",
      "\n",
      "[462809 462643 466315 461735 462669 461319 460156 464347 465015 465176]  (len = 8363)\n",
      "\n",
      "Dtype: int64\n",
      "Number of null values: 0 \n",
      "\n",
      "---------------------\n",
      "\n",
      "### Gender :\n",
      "\n",
      "['Male' 'Female']  (len = 2)\n",
      " \n",
      "\n",
      "Dtype: object\n",
      "Number of null values: 0 \n",
      "\n",
      "---------------------\n",
      "\n",
      "### Ever_Married :\n",
      "\n",
      "['No' 'Yes' nan]  (len = 3)\n",
      " \n",
      "\n",
      "Dtype: object\n",
      "Number of null values: 190 \n",
      "\n",
      "---------------------\n",
      "\n",
      "### Age :\n",
      "\n",
      "[22 38 67 40 56 32 33 61 55 26]  (len = 67)\n",
      "\n",
      "Dtype: int64\n",
      "Number of null values: 0 \n",
      "\n",
      "---------------------\n",
      "\n",
      "### Graduated :\n",
      "\n",
      "['No' 'Yes' nan]  (len = 3)\n",
      " \n",
      "\n",
      "Dtype: object\n",
      "Number of null values: 102 \n",
      "\n",
      "---------------------\n",
      "\n",
      "### Profession :\n",
      "\n",
      "['Healthcare' 'Engineer' 'Lawyer' 'Entertainment' 'Artist' 'Executive'\n",
      " 'Doctor' 'Homemaker' 'Marketing' nan]  (len = 10)\n",
      "\n",
      "Dtype: object\n",
      "Number of null values: 162 \n",
      "\n",
      "---------------------\n",
      "\n",
      "### Work_Experience :\n",
      "\n",
      "[ 1. nan  0.  4.  9. 12.  3. 13.  5.  8.]  (len = 16)\n",
      "\n",
      "Dtype: float64\n",
      "Number of null values: 1098 \n",
      "\n",
      "---------------------\n",
      "\n",
      "### Spending_Score :\n",
      "\n",
      "['Low' 'Average' 'High']  (len = 3)\n",
      " \n",
      "\n",
      "Dtype: object\n",
      "Number of null values: 0 \n",
      "\n",
      "---------------------\n",
      "\n",
      "### Family_Size :\n",
      "\n",
      "[ 4.  3.  1.  2.  6. nan  5.  8.  7.  9.]  (len = 10)\n",
      "\n",
      "Dtype: float64\n",
      "Number of null values: 448 \n",
      "\n",
      "---------------------\n",
      "\n",
      "### Var_1 :\n",
      "\n",
      "['Cat_4' 'Cat_6' 'Cat_7' 'Cat_3' 'Cat_1' 'Cat_2' nan 'Cat_5']  (len = 8)\n",
      " \n",
      "\n",
      "Dtype: object\n",
      "Number of null values: 108 \n",
      "\n",
      "---------------------\n",
      "\n",
      "### Segmentation :\n",
      "\n",
      "['D' 'A' 'B' 'C']  (len = 4)\n",
      " \n",
      "\n",
      "Dtype: object\n",
      "Number of null values: 0 \n",
      "\n",
      "---------------------\n",
      "\n",
      "### Train_Test :\n",
      "\n",
      "[0 1]  (len = 2)\n",
      " \n",
      "\n",
      "Dtype: int64\n",
      "Number of null values: 0 \n",
      "\n",
      "---------------------\n",
      "\n"
     ]
    }
   ],
   "source": [
    "for col in df.columns:\n",
    "    print('###', col, ':\\n')\n",
    "    if len(df[col].unique()) >= 10:\n",
    "        print(df[col].unique()[:10], ' (len = {})\\n'.format(len(df[col].unique())))\n",
    "    else:\n",
    "        print(df[col].unique(), ' (len = {})\\n'.format(len(df[col].unique())), '\\n')\n",
    "    print('Dtype: {}'.format(df[col].dtype))\n",
    "    print('Number of null values: {}'.format(df[col].isnull().sum()), '\\n')\n",
    "    print('---------------------\\n')"
   ]
  },
  {
   "cell_type": "code",
   "execution_count": 11,
   "id": "56bc9df1",
   "metadata": {},
   "outputs": [],
   "source": [
    "# Comments\n",
    "\n",
    "'''\n",
    "- Drop ID\n",
    "- Age => AgeGroup\n",
    "- Check the relation between nans of Profession and Work_Experience\n",
    "- Text mining for Var_1\n",
    "''';"
   ]
  },
  {
   "cell_type": "markdown",
   "id": "93926dd5",
   "metadata": {},
   "source": [
    "# Cleaning data"
   ]
  },
  {
   "cell_type": "code",
   "execution_count": 12,
   "id": "bf4e5d19",
   "metadata": {},
   "outputs": [],
   "source": [
    "# Drop ID column\n",
    "df.drop(['ID'], axis=1, inplace=True)"
   ]
  },
  {
   "cell_type": "code",
   "execution_count": 13,
   "id": "a7e59b12",
   "metadata": {
    "scrolled": true
   },
   "outputs": [],
   "source": [
    "# Text mining for Var_1\n",
    "\n",
    "df['Var_1'] = df['Var_1'].apply(lambda x: float(x.split('_')[1]) if type(x)!=float else x)"
   ]
  },
  {
   "cell_type": "markdown",
   "id": "601873f8",
   "metadata": {},
   "source": [
    "# Exploratory Data Analysis (EDA) on raw data"
   ]
  },
  {
   "cell_type": "code",
   "execution_count": 14,
   "id": "384cdae7",
   "metadata": {},
   "outputs": [],
   "source": [
    "import matplotlib.pyplot as plt\n",
    "import seaborn as sns"
   ]
  },
  {
   "cell_type": "code",
   "execution_count": 15,
   "id": "403addaf",
   "metadata": {},
   "outputs": [
    {
     "data": {
      "image/png": "[encoded data removed]",
      "text/plain": [
       "<Figure size 432x288 with 1 Axes>"
      ]
     },
     "metadata": {
      "needs_background": "light"
     },
     "output_type": "display_data"
    }
   ],
   "source": [
    "# Target Variable\n",
    "\n",
    "sns.countplot(data=df, x='Segmentation')\n",
    "plt.show()"
   ]
  },
  {
   "cell_type": "markdown",
   "id": "641ce41d",
   "metadata": {},
   "source": [
    "All 4 classes distribute quite evenly. It is good to use accuracy as a metric"
   ]
  },
  {
   "cell_type": "code",
   "execution_count": 16,
   "id": "b8321cc1",
   "metadata": {
    "scrolled": false
   },
   "outputs": [
    {
     "data": {
      "image/png": "[encoded data removed]",
      "text/plain": [
       "<Figure size 432x288 with 1 Axes>"
      ]
     },
     "metadata": {
      "needs_background": "light"
     },
     "output_type": "display_data"
    },
    {
     "data": {
      "image/png": "[encoded data removed]",
      "text/plain": [
       "<Figure size 432x288 with 1 Axes>"
      ]
     },
     "metadata": {
      "needs_background": "light"
     },
     "output_type": "display_data"
    },
    {
     "data": {
      "image/png": "[encoded data removed]",
      "text/plain": [
       "<Figure size 432x288 with 1 Axes>"
      ]
     },
     "metadata": {
      "needs_background": "light"
     },
     "output_type": "display_data"
    },
    {
     "data": {
      "image/png": "[encoded data removed]",
      "text/plain": [
       "<Figure size 432x288 with 1 Axes>"
      ]
     },
     "metadata": {
      "needs_background": "light"
     },
     "output_type": "display_data"
    }
   ],
   "source": [
    "#####################################\n",
    "# Numerical Variables (Univariable) #\n",
    "#####################################\n",
    "\n",
    "num_cols = ['Age', 'Work_Experience', 'Family_Size', 'Var_1']\n",
    "\n",
    "for col in num_cols:\n",
    "    sns.histplot(data=df, x=col)\n",
    "    plt.show()"
   ]
  },
  {
   "cell_type": "code",
   "execution_count": 17,
   "id": "084e7e9c",
   "metadata": {},
   "outputs": [
    {
     "data": {
      "image/png": "[encoded data removed]",
      "text/plain": [
       "<Figure size 432x288 with 1 Axes>"
      ]
     },
     "metadata": {
      "needs_background": "light"
     },
     "output_type": "display_data"
    },
    {
     "data": {
      "image/png": "[encoded data removed]",
      "text/plain": [
       "<Figure size 432x288 with 1 Axes>"
      ]
     },
     "metadata": {
      "needs_background": "light"
     },
     "output_type": "display_data"
    },
    {
     "data": {
      "image/png": "[encoded data removed]",
      "text/plain": [
       "<Figure size 432x288 with 1 Axes>"
      ]
     },
     "metadata": {
      "needs_background": "light"
     },
     "output_type": "display_data"
    },
    {
     "data": {
      "image/png": "[encoded data removed]",
      "text/plain": [
       "<Figure size 432x288 with 1 Axes>"
      ]
     },
     "metadata": {
      "needs_background": "light"
     },
     "output_type": "display_data"
    }
   ],
   "source": [
    "#######################################\n",
    "# Numerical Variables (Multivariable) #\n",
    "#######################################\n",
    "\n",
    "num_cols = ['Age', 'Work_Experience', 'Family_Size', 'Var_1']\n",
    "\n",
    "for col in num_cols:\n",
    "    sns.barplot(data=df, x='Segmentation', y=col)\n",
    "    plt.show()"
   ]
  },
  {
   "cell_type": "code",
   "execution_count": 18,
   "id": "15f46d73",
   "metadata": {},
   "outputs": [
    {
     "data": {
      "text/plain": [
       "<AxesSubplot:>"
      ]
     },
     "execution_count": 18,
     "metadata": {},
     "output_type": "execute_result"
    },
    {
     "data": {
      "image/png": "[encoded data removed]",
      "text/plain": [
       "<Figure size 360x360 with 2 Axes>"
      ]
     },
     "metadata": {
      "needs_background": "light"
     },
     "output_type": "display_data"
    }
   ],
   "source": [
    "###########################################\n",
    "# Correlation between numerical variables #\n",
    "###########################################\n",
    "\n",
    "fig = plt.figure(figsize=(5,5))\n",
    "sns.heatmap(data=df[num_cols].corr(), annot=True, linewidths=0.5, square=True)"
   ]
  },
  {
   "cell_type": "markdown",
   "id": "65c599b0",
   "metadata": {},
   "source": [
    "There is no strong correlation between numerical variables."
   ]
  },
  {
   "cell_type": "code",
   "execution_count": 19,
   "id": "b9d2e0dd",
   "metadata": {
    "scrolled": false
   },
   "outputs": [
    {
     "data": {
      "image/png": "[encoded data removed]",
      "text/plain": [
       "<Figure size 864x360 with 2 Axes>"
      ]
     },
     "metadata": {
      "needs_background": "light"
     },
     "output_type": "display_data"
    },
    {
     "data": {
      "image/png": "[encoded data removed]",
      "text/plain": [
       "<Figure size 864x360 with 2 Axes>"
      ]
     },
     "metadata": {
      "needs_background": "light"
     },
     "output_type": "display_data"
    },
    {
     "data": {
      "image/png": "[encoded data removed]",
      "text/plain": [
       "<Figure size 864x360 with 2 Axes>"
      ]
     },
     "metadata": {
      "needs_background": "light"
     },
     "output_type": "display_data"
    },
    {
     "data": {
      "image/png": "[encoded data removed]",
      "text/plain": [
       "<Figure size 864x360 with 2 Axes>"
      ]
     },
     "metadata": {
      "needs_background": "light"
     },
     "output_type": "display_data"
    },
    {
     "data": {
      "image/png": "[encoded data removed]",
      "text/plain": [
       "<Figure size 864x360 with 2 Axes>"
      ]
     },
     "metadata": {
      "needs_background": "light"
     },
     "output_type": "display_data"
    }
   ],
   "source": [
    "#########################\n",
    "# Categorical variables #\n",
    "#########################\n",
    "\n",
    "cat_cols = ['Gender', 'Ever_Married', 'Graduated', 'Profession', 'Spending_Score']\n",
    "\n",
    "for col in cat_cols:\n",
    "    fig, ax = plt.subplots(1,2, figsize=(12,5))\n",
    "    sns.countplot(data=df, x=col, ax=ax[0])\n",
    "    if col == 'Profession':\n",
    "        ax[0].tick_params(axis='x', rotation=45)\n",
    "    \n",
    "    sns.countplot(data=df, x=col, hue='Segmentation', ax=ax[1])\n",
    "    if col == 'Profession':\n",
    "        ax[1].tick_params(axis='x', rotation=45)\n",
    "        \n",
    "    plt.show()"
   ]
  },
  {
   "cell_type": "markdown",
   "id": "746bfdc6",
   "metadata": {},
   "source": [
    "# Handle missing values"
   ]
  },
  {
   "cell_type": "code",
   "execution_count": 20,
   "id": "fed74fb8",
   "metadata": {
    "scrolled": true
   },
   "outputs": [
    {
     "data": {
      "text/plain": [
       "Work_Experience    1098\n",
       "Family_Size         448\n",
       "Ever_Married        190\n",
       "Profession          162\n",
       "Var_1               108\n",
       "Graduated           102\n",
       "Gender                0\n",
       "Age                   0\n",
       "Spending_Score        0\n",
       "Segmentation          0\n",
       "Train_Test            0\n",
       "dtype: int64"
      ]
     },
     "execution_count": 20,
     "metadata": {},
     "output_type": "execute_result"
    }
   ],
   "source": [
    "df.isnull().sum().sort_values(ascending=False)"
   ]
  },
  {
   "cell_type": "code",
   "execution_count": 21,
   "id": "e78f29a6",
   "metadata": {},
   "outputs": [],
   "source": [
    "# Both Profession and Work_Experience is null\n",
    "\n",
    "index = df[(df['Profession'].isnull()) & (df['Work_Experience'].isnull())].index\n",
    "\n",
    "df.drop(index=index, inplace=True)"
   ]
  },
  {
   "cell_type": "code",
   "execution_count": 22,
   "id": "4861d41b",
   "metadata": {},
   "outputs": [],
   "source": [
    "# Profession\n",
    "\n",
    "df['Profession'] = df['Profession'].fillna('Other')"
   ]
  },
  {
   "cell_type": "code",
   "execution_count": 23,
   "id": "6bea481e",
   "metadata": {},
   "outputs": [],
   "source": [
    "# Work_Experience\n",
    "\n",
    "df['Work_Experience'] = df.groupby(by='Profession')['Work_Experience'].apply(lambda x: x.fillna(x.mode()[0]))"
   ]
  },
  {
   "cell_type": "code",
   "execution_count": 24,
   "id": "5b61a884",
   "metadata": {},
   "outputs": [],
   "source": [
    "# Both Family_Size and Ever_Married is null\n",
    "\n",
    "index = df[(df['Family_Size'].isnull()) & (df['Ever_Married'].isnull())].index\n",
    "\n",
    "df.drop(index=index, inplace=True)"
   ]
  },
  {
   "cell_type": "code",
   "execution_count": 25,
   "id": "bc3a48ef",
   "metadata": {},
   "outputs": [],
   "source": [
    "# Family_Size\n",
    "\n",
    "df['Family_Size'] = df['Family_Size'].fillna(df['Family_Size'].mode()[0])"
   ]
  },
  {
   "cell_type": "code",
   "execution_count": 26,
   "id": "665d6654",
   "metadata": {},
   "outputs": [],
   "source": [
    "# Ever_Married\n",
    "\n",
    "df['Ever_Married'] = df['Ever_Married'].fillna(df['Ever_Married'].mode()[0])"
   ]
  },
  {
   "cell_type": "code",
   "execution_count": 27,
   "id": "dbb7b4ad",
   "metadata": {},
   "outputs": [],
   "source": [
    "# Graduated\n",
    "\n",
    "df['Graduated'] = df['Graduated'].fillna(df['Graduated'].mode()[0])"
   ]
  },
  {
   "cell_type": "code",
   "execution_count": 28,
   "id": "e493f9a4",
   "metadata": {},
   "outputs": [],
   "source": [
    "# Var_1\n",
    "\n",
    "df.dropna(subset=['Var_1'], inplace=True)"
   ]
  },
  {
   "cell_type": "code",
   "execution_count": 29,
   "id": "7e1a8459",
   "metadata": {},
   "outputs": [
    {
     "data": {
      "text/plain": [
       "Gender             0\n",
       "Ever_Married       0\n",
       "Age                0\n",
       "Graduated          0\n",
       "Profession         0\n",
       "Work_Experience    0\n",
       "Spending_Score     0\n",
       "Family_Size        0\n",
       "Var_1              0\n",
       "Segmentation       0\n",
       "Train_Test         0\n",
       "dtype: int64"
      ]
     },
     "execution_count": 29,
     "metadata": {},
     "output_type": "execute_result"
    }
   ],
   "source": [
    "df.isnull().sum().sort_values(ascending=False)"
   ]
  },
  {
   "cell_type": "markdown",
   "id": "8f6cbff8",
   "metadata": {},
   "source": [
    "# Create new features"
   ]
  },
  {
   "cell_type": "code",
   "execution_count": 30,
   "id": "29e94664",
   "metadata": {},
   "outputs": [],
   "source": [
    "bins = [17,30,40,50,60, 70, 80, 90]\n",
    "labels = [0,1,2,3,4,5,6]\n",
    "df['Age_Group'] = pd.cut(df['Age'], bins=bins, labels=labels).astype(int)"
   ]
  },
  {
   "cell_type": "code",
   "execution_count": 31,
   "id": "314f2dc1",
   "metadata": {},
   "outputs": [],
   "source": [
    "df.drop(columns=['Age'], inplace=True)"
   ]
  },
  {
   "cell_type": "markdown",
   "id": "2e3e3f6d",
   "metadata": {},
   "source": [
    "# Skewed data"
   ]
  },
  {
   "cell_type": "code",
   "execution_count": 32,
   "id": "0023b41a",
   "metadata": {},
   "outputs": [
    {
     "data": {
      "text/html": [
       "<div>\n",
       "<style scoped>\n",
       "    .dataframe tbody tr th:only-of-type {\n",
       "        vertical-align: middle;\n",
       "    }\n",
       "\n",
       "    .dataframe tbody tr th {\n",
       "        vertical-align: top;\n",
       "    }\n",
       "\n",
       "    .dataframe thead th {\n",
       "        text-align: right;\n",
       "    }\n",
       "</style>\n",
       "<table border=\"1\" class=\"dataframe\">\n",
       "  <thead>\n",
       "    <tr style=\"text-align: right;\">\n",
       "      <th></th>\n",
       "      <th>Gender</th>\n",
       "      <th>Ever_Married</th>\n",
       "      <th>Graduated</th>\n",
       "      <th>Profession</th>\n",
       "      <th>Work_Experience</th>\n",
       "      <th>Spending_Score</th>\n",
       "      <th>Family_Size</th>\n",
       "      <th>Var_1</th>\n",
       "      <th>Segmentation</th>\n",
       "      <th>Train_Test</th>\n",
       "      <th>Age_Group</th>\n",
       "    </tr>\n",
       "  </thead>\n",
       "  <tbody>\n",
       "    <tr>\n",
       "      <th>0</th>\n",
       "      <td>Male</td>\n",
       "      <td>No</td>\n",
       "      <td>No</td>\n",
       "      <td>Healthcare</td>\n",
       "      <td>1.0</td>\n",
       "      <td>Low</td>\n",
       "      <td>4.0</td>\n",
       "      <td>4.0</td>\n",
       "      <td>D</td>\n",
       "      <td>0</td>\n",
       "      <td>0</td>\n",
       "    </tr>\n",
       "    <tr>\n",
       "      <th>1</th>\n",
       "      <td>Female</td>\n",
       "      <td>Yes</td>\n",
       "      <td>Yes</td>\n",
       "      <td>Engineer</td>\n",
       "      <td>0.0</td>\n",
       "      <td>Average</td>\n",
       "      <td>3.0</td>\n",
       "      <td>4.0</td>\n",
       "      <td>A</td>\n",
       "      <td>0</td>\n",
       "      <td>1</td>\n",
       "    </tr>\n",
       "    <tr>\n",
       "      <th>2</th>\n",
       "      <td>Female</td>\n",
       "      <td>Yes</td>\n",
       "      <td>Yes</td>\n",
       "      <td>Engineer</td>\n",
       "      <td>1.0</td>\n",
       "      <td>Low</td>\n",
       "      <td>1.0</td>\n",
       "      <td>6.0</td>\n",
       "      <td>B</td>\n",
       "      <td>0</td>\n",
       "      <td>4</td>\n",
       "    </tr>\n",
       "    <tr>\n",
       "      <th>3</th>\n",
       "      <td>Male</td>\n",
       "      <td>Yes</td>\n",
       "      <td>Yes</td>\n",
       "      <td>Lawyer</td>\n",
       "      <td>0.0</td>\n",
       "      <td>High</td>\n",
       "      <td>2.0</td>\n",
       "      <td>6.0</td>\n",
       "      <td>B</td>\n",
       "      <td>0</td>\n",
       "      <td>4</td>\n",
       "    </tr>\n",
       "    <tr>\n",
       "      <th>4</th>\n",
       "      <td>Female</td>\n",
       "      <td>Yes</td>\n",
       "      <td>Yes</td>\n",
       "      <td>Entertainment</td>\n",
       "      <td>1.0</td>\n",
       "      <td>High</td>\n",
       "      <td>6.0</td>\n",
       "      <td>6.0</td>\n",
       "      <td>A</td>\n",
       "      <td>0</td>\n",
       "      <td>1</td>\n",
       "    </tr>\n",
       "  </tbody>\n",
       "</table>\n",
       "</div>"
      ],
      "text/plain": [
       "   Gender Ever_Married Graduated     Profession  Work_Experience  \\\n",
       "0    Male           No        No     Healthcare              1.0   \n",
       "1  Female          Yes       Yes       Engineer              0.0   \n",
       "2  Female          Yes       Yes       Engineer              1.0   \n",
       "3    Male          Yes       Yes         Lawyer              0.0   \n",
       "4  Female          Yes       Yes  Entertainment              1.0   \n",
       "\n",
       "  Spending_Score  Family_Size  Var_1 Segmentation  Train_Test  Age_Group  \n",
       "0            Low          4.0    4.0            D           0          0  \n",
       "1        Average          3.0    4.0            A           0          1  \n",
       "2            Low          1.0    6.0            B           0          4  \n",
       "3           High          2.0    6.0            B           0          4  \n",
       "4           High          6.0    6.0            A           0          1  "
      ]
     },
     "execution_count": 32,
     "metadata": {},
     "output_type": "execute_result"
    }
   ],
   "source": [
    "df.head()"
   ]
  },
  {
   "cell_type": "code",
   "execution_count": 33,
   "id": "fdb6ebe5",
   "metadata": {},
   "outputs": [],
   "source": [
    "num_cols = ['Work_Experience', 'Family_Size', 'Var_1', 'Age_Group']\n",
    "\n",
    "# Set skew limit to 0.75\n",
    "skew_limit = 0.75\n",
    "\n",
    "# Get a Series of each numerical column with its skewness\n",
    "skew_vals = df[num_cols].skew()"
   ]
  },
  {
   "cell_type": "code",
   "execution_count": 34,
   "id": "edc2954f",
   "metadata": {},
   "outputs": [
    {
     "data": {
      "text/plain": [
       "<matplotlib.legend.Legend at 0x1f8fbce35e0>"
      ]
     },
     "execution_count": 34,
     "metadata": {},
     "output_type": "execute_result"
    },
    {
     "data": {
      "image/png": "[encoded data removed]",
      "text/plain": [
       "<Figure size 360x216 with 1 Axes>"
      ]
     },
     "metadata": {
      "needs_background": "light"
     },
     "output_type": "display_data"
    }
   ],
   "source": [
    "# Plot skewness\n",
    "fig = plt.figure(figsize=(5,3))\n",
    "sns.barplot(x=skew_vals.values, y=skew_vals.index)\n",
    "plt.axvline(x=0.75, color='r', linestyle='--', label='0.75')\n",
    "plt.axvline(x=-0.75, color='b', linestyle='--', label='- 0.75')\n",
    "plt.legend()"
   ]
  },
  {
   "cell_type": "code",
   "execution_count": 35,
   "id": "95c0b797",
   "metadata": {},
   "outputs": [],
   "source": [
    "# Get a list of numerical columns which have absolute skewness greater than skew_limit\n",
    "skew_cols = skew_vals[abs(skew_vals) > skew_limit].index\n",
    "\n",
    "# Apply np.log1p to all features that have absolute skewness greater than skew_limit\n",
    "for col in skew_cols:\n",
    "    df[col] = df[col].apply(np.log1p)"
   ]
  },
  {
   "cell_type": "code",
   "execution_count": 36,
   "id": "e61609b1",
   "metadata": {},
   "outputs": [
    {
     "data": {
      "text/plain": [
       "<matplotlib.legend.Legend at 0x1f8fbdc4d00>"
      ]
     },
     "execution_count": 36,
     "metadata": {},
     "output_type": "execute_result"
    },
    {
     "data": {
      "image/png": "[encoded data removed]",
      "text/plain": [
       "<Figure size 360x216 with 1 Axes>"
      ]
     },
     "metadata": {
      "needs_background": "light"
     },
     "output_type": "display_data"
    }
   ],
   "source": [
    "skew_vals = df[num_cols].skew()\n",
    "\n",
    "# Plot skewness after applying np.log1p\n",
    "fig = plt.figure(figsize=(5,3))\n",
    "sns.barplot(x=skew_vals.values, y=skew_vals.index)\n",
    "plt.axvline(x=0.75, color='r', linestyle='--', label='0.75')\n",
    "plt.axvline(x=-0.75, color='b', linestyle='--', label='- 0.75')\n",
    "plt.legend()"
   ]
  },
  {
   "cell_type": "markdown",
   "id": "432dddc4",
   "metadata": {},
   "source": [
    "# Scale data"
   ]
  },
  {
   "cell_type": "code",
   "execution_count": 37,
   "id": "cbbf095e",
   "metadata": {},
   "outputs": [],
   "source": [
    "# Import libraries\n",
    "from sklearn.preprocessing import StandardScaler"
   ]
  },
  {
   "cell_type": "code",
   "execution_count": 38,
   "id": "6e4aed98",
   "metadata": {},
   "outputs": [],
   "source": [
    "num_cols = ['Work_Experience', 'Family_Size', 'Var_1', 'Age_Group']\n",
    "\n",
    "# Scale data\n",
    "scaler = StandardScaler()\n",
    "df[num_cols] = scaler.fit_transform(df[num_cols])"
   ]
  },
  {
   "cell_type": "markdown",
   "id": "eb30018b",
   "metadata": {},
   "source": [
    "# Label Encoding and Getting Dummies"
   ]
  },
  {
   "cell_type": "code",
   "execution_count": 39,
   "id": "029c63c2",
   "metadata": {},
   "outputs": [],
   "source": [
    "# Spending_Score\n",
    "\n",
    "df['Spending_Score'] = df['Spending_Score'].map({'Low':0, 'Average':1, 'High':2})"
   ]
  },
  {
   "cell_type": "code",
   "execution_count": 40,
   "id": "29279992",
   "metadata": {},
   "outputs": [],
   "source": [
    "# Segmentation\n",
    "df['Segmentation'] = df['Segmentation'].map({'A':0, 'B':1, 'C':2, 'D':3})"
   ]
  },
  {
   "cell_type": "code",
   "execution_count": 41,
   "id": "ae455e05",
   "metadata": {},
   "outputs": [],
   "source": [
    "label_cols = ['Gender', 'Ever_Married', 'Graduated', ]\n",
    "dummies_cols = ['Profession']"
   ]
  },
  {
   "cell_type": "code",
   "execution_count": 42,
   "id": "a2910d47",
   "metadata": {},
   "outputs": [],
   "source": [
    "# Label Encoding\n",
    "\n",
    "from sklearn.preprocessing import LabelEncoder\n",
    "\n",
    "for col in label_cols:\n",
    "    le = LabelEncoder()\n",
    "    df[col] = le.fit_transform(df[col])"
   ]
  },
  {
   "cell_type": "code",
   "execution_count": 43,
   "id": "01bdfe26",
   "metadata": {},
   "outputs": [],
   "source": [
    "# Getting dummies\n",
    "\n",
    "final_df = pd.get_dummies(df, drop_first=True)"
   ]
  },
  {
   "cell_type": "code",
   "execution_count": 44,
   "id": "00620bd6",
   "metadata": {},
   "outputs": [
    {
     "data": {
      "text/html": [
       "<div>\n",
       "<style scoped>\n",
       "    .dataframe tbody tr th:only-of-type {\n",
       "        vertical-align: middle;\n",
       "    }\n",
       "\n",
       "    .dataframe tbody tr th {\n",
       "        vertical-align: top;\n",
       "    }\n",
       "\n",
       "    .dataframe thead th {\n",
       "        text-align: right;\n",
       "    }\n",
       "</style>\n",
       "<table border=\"1\" class=\"dataframe\">\n",
       "  <thead>\n",
       "    <tr style=\"text-align: right;\">\n",
       "      <th></th>\n",
       "      <th>Gender</th>\n",
       "      <th>Ever_Married</th>\n",
       "      <th>Graduated</th>\n",
       "      <th>Work_Experience</th>\n",
       "      <th>Spending_Score</th>\n",
       "      <th>Family_Size</th>\n",
       "      <th>Var_1</th>\n",
       "      <th>Segmentation</th>\n",
       "      <th>Train_Test</th>\n",
       "      <th>Age_Group</th>\n",
       "      <th>Profession_Doctor</th>\n",
       "      <th>Profession_Engineer</th>\n",
       "      <th>Profession_Entertainment</th>\n",
       "      <th>Profession_Executive</th>\n",
       "      <th>Profession_Healthcare</th>\n",
       "      <th>Profession_Homemaker</th>\n",
       "      <th>Profession_Lawyer</th>\n",
       "      <th>Profession_Marketing</th>\n",
       "      <th>Profession_Other</th>\n",
       "    </tr>\n",
       "  </thead>\n",
       "  <tbody>\n",
       "    <tr>\n",
       "      <th>0</th>\n",
       "      <td>1</td>\n",
       "      <td>0</td>\n",
       "      <td>0</td>\n",
       "      <td>-0.182741</td>\n",
       "      <td>0</td>\n",
       "      <td>0.904475</td>\n",
       "      <td>-0.585728</td>\n",
       "      <td>3</td>\n",
       "      <td>0</td>\n",
       "      <td>-1.418076</td>\n",
       "      <td>0</td>\n",
       "      <td>0</td>\n",
       "      <td>0</td>\n",
       "      <td>0</td>\n",
       "      <td>1</td>\n",
       "      <td>0</td>\n",
       "      <td>0</td>\n",
       "      <td>0</td>\n",
       "      <td>0</td>\n",
       "    </tr>\n",
       "    <tr>\n",
       "      <th>1</th>\n",
       "      <td>0</td>\n",
       "      <td>1</td>\n",
       "      <td>1</td>\n",
       "      <td>-1.009365</td>\n",
       "      <td>1</td>\n",
       "      <td>0.319098</td>\n",
       "      <td>-0.585728</td>\n",
       "      <td>0</td>\n",
       "      <td>0</td>\n",
       "      <td>-0.281687</td>\n",
       "      <td>0</td>\n",
       "      <td>1</td>\n",
       "      <td>0</td>\n",
       "      <td>0</td>\n",
       "      <td>0</td>\n",
       "      <td>0</td>\n",
       "      <td>0</td>\n",
       "      <td>0</td>\n",
       "      <td>0</td>\n",
       "    </tr>\n",
       "    <tr>\n",
       "      <th>2</th>\n",
       "      <td>0</td>\n",
       "      <td>1</td>\n",
       "      <td>1</td>\n",
       "      <td>-0.182741</td>\n",
       "      <td>0</td>\n",
       "      <td>-1.499248</td>\n",
       "      <td>0.579276</td>\n",
       "      <td>1</td>\n",
       "      <td>0</td>\n",
       "      <td>1.220536</td>\n",
       "      <td>0</td>\n",
       "      <td>1</td>\n",
       "      <td>0</td>\n",
       "      <td>0</td>\n",
       "      <td>0</td>\n",
       "      <td>0</td>\n",
       "      <td>0</td>\n",
       "      <td>0</td>\n",
       "      <td>0</td>\n",
       "    </tr>\n",
       "    <tr>\n",
       "      <th>3</th>\n",
       "      <td>1</td>\n",
       "      <td>1</td>\n",
       "      <td>1</td>\n",
       "      <td>-1.009365</td>\n",
       "      <td>2</td>\n",
       "      <td>-0.435584</td>\n",
       "      <td>0.579276</td>\n",
       "      <td>1</td>\n",
       "      <td>0</td>\n",
       "      <td>1.220536</td>\n",
       "      <td>0</td>\n",
       "      <td>0</td>\n",
       "      <td>0</td>\n",
       "      <td>0</td>\n",
       "      <td>0</td>\n",
       "      <td>0</td>\n",
       "      <td>1</td>\n",
       "      <td>0</td>\n",
       "      <td>0</td>\n",
       "    </tr>\n",
       "    <tr>\n",
       "      <th>4</th>\n",
       "      <td>0</td>\n",
       "      <td>1</td>\n",
       "      <td>1</td>\n",
       "      <td>-0.182741</td>\n",
       "      <td>2</td>\n",
       "      <td>1.787149</td>\n",
       "      <td>0.579276</td>\n",
       "      <td>0</td>\n",
       "      <td>0</td>\n",
       "      <td>-0.281687</td>\n",
       "      <td>0</td>\n",
       "      <td>0</td>\n",
       "      <td>1</td>\n",
       "      <td>0</td>\n",
       "      <td>0</td>\n",
       "      <td>0</td>\n",
       "      <td>0</td>\n",
       "      <td>0</td>\n",
       "      <td>0</td>\n",
       "    </tr>\n",
       "  </tbody>\n",
       "</table>\n",
       "</div>"
      ],
      "text/plain": [
       "   Gender  Ever_Married  Graduated  Work_Experience  Spending_Score  \\\n",
       "0       1             0          0        -0.182741               0   \n",
       "1       0             1          1        -1.009365               1   \n",
       "2       0             1          1        -0.182741               0   \n",
       "3       1             1          1        -1.009365               2   \n",
       "4       0             1          1        -0.182741               2   \n",
       "\n",
       "   Family_Size     Var_1  Segmentation  Train_Test  Age_Group  \\\n",
       "0     0.904475 -0.585728             3           0  -1.418076   \n",
       "1     0.319098 -0.585728             0           0  -0.281687   \n",
       "2    -1.499248  0.579276             1           0   1.220536   \n",
       "3    -0.435584  0.579276             1           0   1.220536   \n",
       "4     1.787149  0.579276             0           0  -0.281687   \n",
       "\n",
       "   Profession_Doctor  Profession_Engineer  Profession_Entertainment  \\\n",
       "0                  0                    0                         0   \n",
       "1                  0                    1                         0   \n",
       "2                  0                    1                         0   \n",
       "3                  0                    0                         0   \n",
       "4                  0                    0                         1   \n",
       "\n",
       "   Profession_Executive  Profession_Healthcare  Profession_Homemaker  \\\n",
       "0                     0                      1                     0   \n",
       "1                     0                      0                     0   \n",
       "2                     0                      0                     0   \n",
       "3                     0                      0                     0   \n",
       "4                     0                      0                     0   \n",
       "\n",
       "   Profession_Lawyer  Profession_Marketing  Profession_Other  \n",
       "0                  0                     0                 0  \n",
       "1                  0                     0                 0  \n",
       "2                  0                     0                 0  \n",
       "3                  1                     0                 0  \n",
       "4                  0                     0                 0  "
      ]
     },
     "execution_count": 44,
     "metadata": {},
     "output_type": "execute_result"
    }
   ],
   "source": [
    "final_df.head()"
   ]
  },
  {
   "cell_type": "markdown",
   "id": "b6c95eaf",
   "metadata": {},
   "source": [
    "# Train Test split"
   ]
  },
  {
   "cell_type": "code",
   "execution_count": 45,
   "id": "3208fb77",
   "metadata": {},
   "outputs": [],
   "source": [
    "df_train = final_df[final_df['Train_Test'] == 0]\n",
    "df_test = final_df[final_df['Train_Test'] == 1]"
   ]
  },
  {
   "cell_type": "code",
   "execution_count": 46,
   "id": "e548fd26",
   "metadata": {},
   "outputs": [],
   "source": [
    "# Drop Train_Test column\n",
    "df_train.drop(['Train_Test'], axis=1, inplace=True)\n",
    "df_test.drop(['Train_Test'], axis=1, inplace=True)"
   ]
  },
  {
   "cell_type": "code",
   "execution_count": 47,
   "id": "5c9f607a",
   "metadata": {},
   "outputs": [],
   "source": [
    "# Split data\n",
    "X_train = df_train.drop(['Segmentation'], axis=1)\n",
    "y_train = df_train['Segmentation']\n",
    "X_test = df_test.drop(['Segmentation'], axis=1)\n",
    "y_test = df_test['Segmentation']"
   ]
  },
  {
   "cell_type": "code",
   "execution_count": 48,
   "id": "f115d1dc",
   "metadata": {},
   "outputs": [
    {
     "name": "stdout",
     "output_type": "stream",
     "text": [
      "Size of X_train: (7955, 17)\n",
      "Size of y_train: (7955,)\n",
      "Size of X_test: (2586, 17)\n",
      "Size of y_test: (2586,)\n"
     ]
    }
   ],
   "source": [
    "# print size of X_train, y_train, X_val, y_val, X_test, y_test\n",
    "print('Size of X_train:', X_train.shape)\n",
    "print('Size of y_train:', y_train.shape)\n",
    "print('Size of X_test:', X_test.shape)\n",
    "print('Size of y_test:', y_test.shape)"
   ]
  },
  {
   "cell_type": "markdown",
   "id": "c374747a",
   "metadata": {},
   "source": [
    "# Quick dirty training"
   ]
  },
  {
   "cell_type": "code",
   "execution_count": 49,
   "id": "b7e230a7",
   "metadata": {},
   "outputs": [],
   "source": [
    "# Import libraries\n",
    "\n",
    "from xgboost import XGBClassifier\n",
    "from sklearn.ensemble import RandomForestClassifier, VotingClassifier\n",
    "from sklearn.tree import DecisionTreeClassifier\n",
    "from sklearn.linear_model import LogisticRegression, RidgeClassifier\n",
    "from sklearn.neighbors import KNeighborsClassifier\n",
    "from sklearn.svm import  SVR, SVC\n",
    "\n",
    "from sklearn.model_selection import cross_val_score"
   ]
  },
  {
   "cell_type": "code",
   "execution_count": 50,
   "id": "5355d9ac",
   "metadata": {
    "scrolled": false
   },
   "outputs": [],
   "source": [
    "# Models\n",
    "\n",
    "'''\n",
    "rf = RandomForestClassifier(random_state=11)\n",
    "lr = LogisticRegression(random_state=11)\n",
    "xgb = XGBClassifier(eval_metric='mlogloss', use_label_encoder=False, random_state=11)\n",
    "dt= DecisionTreeClassifier(random_state=11)\n",
    "knn = KNeighborsClassifier()\n",
    "svc = SVC(probability=True, random_state=11)\n",
    "ridge_c = RidgeClassifier(random_state=11)\n",
    "\n",
    "model_list = [rf, lr, xgb, dt, knn, svc, ridge_c]\n",
    "\n",
    "for model in model_list:\n",
    "    scores = cross_val_score(model, X=X_train, y=y_train, scoring='accuracy', cv=5)\n",
    "    print(u'Score of {}: {} \\u00B1 {}'.format(type(model).__name__, round(scores.mean(), 4), round(scores.std(), 4)))\n",
    "''';"
   ]
  },
  {
   "cell_type": "markdown",
   "id": "8099f54d",
   "metadata": {},
   "source": [
    "- Score of RandomForestClassifier: 0.4797 ± 0.011\n",
    "- Score of LogisticRegression: 0.5067 ± 0.0118\n",
    "- Score of XGBClassifier: 0.5095 ± 0.0049\n",
    "- Score of DecisionTreeClassifier: 0.4414 ± 0.0077\n",
    "- Score of KNeighborsClassifier: 0.4655 ± 0.007\n",
    "- Score of SVC: 0.5214 ± 0.0057\n",
    "- Score of RidgeClassifier: 0.4977 ± 0.0117"
   ]
  },
  {
   "cell_type": "markdown",
   "id": "b0758d53",
   "metadata": {},
   "source": [
    "# Hyperparameters"
   ]
  },
  {
   "cell_type": "code",
   "execution_count": 51,
   "id": "49fa03ce",
   "metadata": {},
   "outputs": [],
   "source": [
    "# Import libraries\n",
    "from sklearn.model_selection import GridSearchCV, RandomizedSearchCV"
   ]
  },
  {
   "cell_type": "code",
   "execution_count": 52,
   "id": "481c429b",
   "metadata": {},
   "outputs": [],
   "source": [
    "# Define a function for RandomizedSearchCV\n",
    "\n",
    "def search(model, params):\n",
    "    model_gridsearch = RandomizedSearchCV(model, params, cv=5,\n",
    "                              scoring='accuracy', n_jobs=-1, random_state=11)\n",
    "    model_gridsearch.fit(X_train, y_train)\n",
    "    \n",
    "    print(type(model).__name__, '\\n')\n",
    "    print('Best parameters: {}'.format(model_gridsearch.best_params_), '\\n')\n",
    "    print('Best score: {}'.format(model_gridsearch.best_score_), '\\n\\n')"
   ]
  },
  {
   "cell_type": "code",
   "execution_count": 53,
   "id": "1432bbe9",
   "metadata": {},
   "outputs": [],
   "source": [
    "# Random Forest Classifier\n",
    "\n",
    "'''\n",
    "rf_params = {\n",
    "    'n_estimators': np.random.randint(1,500,100),\n",
    "    'criterion': ['gini', 'entropy'],\n",
    "    #'max_depth': np.random.randint(1,100,100),\n",
    "    'max_features': ['auto', 'sqrt', 'log2'],\n",
    "    #'min_samples_split': np.random.randint(2,100,100)\n",
    "    \n",
    "}\n",
    "\n",
    "rf = RandomForestClassifier(random_state=11)\n",
    "\n",
    "search(rf, rf_params)\n",
    "''';"
   ]
  },
  {
   "cell_type": "markdown",
   "id": "7cf564c7",
   "metadata": {},
   "source": [
    "RandomForestClassifier \n",
    "\n",
    "Best parameters: {'n_estimators': 434, 'max_features': 'log2', 'criterion': 'entropy'} \n",
    "\n",
    "Best score: 0.48258956631049654 "
   ]
  },
  {
   "cell_type": "code",
   "execution_count": 54,
   "id": "f44d2901",
   "metadata": {},
   "outputs": [],
   "source": [
    "# Logistic Regression\n",
    "\n",
    "'''\n",
    "lr_params = {\n",
    "    'solver': ['liblinear'],\n",
    "    'penalty': ['l2','l1'],\n",
    "    'C': 10**np.random.uniform(-4,3,100),\n",
    "    'max_iter': [4000]\n",
    "}\n",
    "\n",
    "lr = LogisticRegression(random_state=11)\n",
    "\n",
    "search(lr, lr_params)\n",
    "''';"
   ]
  },
  {
   "cell_type": "markdown",
   "id": "424d5d1f",
   "metadata": {},
   "source": [
    "LogisticRegression \n",
    "\n",
    "Best parameters: {'solver': 'liblinear', 'penalty': 'l1', 'max_iter': 4000, 'C': 0.6412047763532598} \n",
    "\n",
    "Best score: 0.5088623507228158 "
   ]
  },
  {
   "cell_type": "code",
   "execution_count": 55,
   "id": "2593a45a",
   "metadata": {
    "scrolled": true
   },
   "outputs": [],
   "source": [
    "# XGB Classifiers\n",
    "\n",
    "'''\n",
    "xgb_params= {\n",
    "    'learning_rate': 10**np.random.uniform(-4,2,20), \n",
    "    \"subsample\": np.random.uniform(0,1,5),\n",
    "    'max_depth': np.random.randint(1,50,5),\n",
    "    \"gamma\" : np.random.uniform(1,100,10),             \n",
    "    'n_estimators': np.random.randint(1,100,100)\n",
    "}\n",
    "\n",
    "xgb = XGBClassifier(eval_metric='mlogloss', use_label_encoder=False, random_state=11)\n",
    "\n",
    "search(xgb, xgb_params)\n",
    "''';"
   ]
  },
  {
   "cell_type": "markdown",
   "id": "0b890e15",
   "metadata": {},
   "source": [
    "XGBClassifier \n",
    "\n",
    "Best parameters: {'subsample': 0.6945918635432105, 'n_estimators': 10, 'max_depth': 8, 'learning_rate': 0.14624430779801953, 'gamma': 12.058526563328263} \n",
    "\n",
    "Best score: 0.49377749842866125 "
   ]
  },
  {
   "cell_type": "code",
   "execution_count": 56,
   "id": "7014dc7f",
   "metadata": {},
   "outputs": [],
   "source": [
    "# Decision Tree\n",
    "\n",
    "'''\n",
    "tree_params = {\n",
    "    'max_depth': np.random.randint(1,50,100),       \n",
    "    'max_features' :[\"auto\", \"log2\", None]\n",
    "}\n",
    "\n",
    "dt= DecisionTreeClassifier(random_state=11)\n",
    "\n",
    "search(dt, tree_params)\n",
    "''';"
   ]
  },
  {
   "cell_type": "markdown",
   "id": "d0198d9f",
   "metadata": {},
   "source": [
    "DecisionTreeClassifier \n",
    "\n",
    "Best parameters: {'max_features': None, 'max_depth': 6} \n",
    "\n",
    "Best score: 0.49201759899434316 "
   ]
  },
  {
   "cell_type": "code",
   "execution_count": 57,
   "id": "077ad2b9",
   "metadata": {},
   "outputs": [],
   "source": [
    "# KNeighbors Classifier\n",
    "\n",
    "'''\n",
    "knn_params = {\n",
    "    'n_neighbors' : np.random.randint(1,50,100), \n",
    "    'leaf_size': np.random.randint(1,50,100),\n",
    "    'p': np.random.randint(1,50,100),\n",
    "    'metric' :[\"euclidean\",\"manhattan\",\"minkowski\"],\n",
    "    'weights' :[\"uniform\", \"distance\"]\n",
    "}\n",
    "\n",
    "knn = KNeighborsClassifier()\n",
    "\n",
    "search(knn, knn_params)\n",
    "''';"
   ]
  },
  {
   "cell_type": "markdown",
   "id": "6f34cfd7",
   "metadata": {},
   "source": [
    "KNeighborsClassifier \n",
    "\n",
    "Best parameters: {'weights': 'uniform', 'p': 17, 'n_neighbors': 21, 'metric': 'euclidean', 'leaf_size': 13} \n",
    "\n",
    "Best score: 0.49377749842866114 "
   ]
  },
  {
   "cell_type": "code",
   "execution_count": 58,
   "id": "abe98a97",
   "metadata": {},
   "outputs": [],
   "source": [
    "# SVC\n",
    "\n",
    "'''\n",
    "svc_params = {\n",
    "    'kernel' : ['linear', 'poly', 'rbf', 'sigmoid'], \n",
    "    'C' : 10**np.random.uniform(-4,1,10), \n",
    "    #'degree': np.random.randint(1,50,5),\n",
    "    'gamma': ['scale', 'auto']\n",
    "}\n",
    "\n",
    "svc = SVC(probability=True, random_state=11)\n",
    "\n",
    "search(svc, svc_params)\n",
    "''';"
   ]
  },
  {
   "cell_type": "markdown",
   "id": "912921a8",
   "metadata": {},
   "source": [
    "SVC \n",
    "\n",
    "Best parameters: {'kernel': 'rbf', 'gamma': 'auto', 'C': 3.7838899723731028} \n",
    "\n",
    "Best score: 0.5263356379635449 \n"
   ]
  },
  {
   "cell_type": "code",
   "execution_count": 59,
   "id": "98c73a77",
   "metadata": {},
   "outputs": [],
   "source": [
    "# Ridge Classifier\n",
    "\n",
    "'''\n",
    "ridge_params = {\n",
    "    'max_iter': np.random.randint(1,200,100), \n",
    "    'alpha': 10**np.random.uniform(-4,2,100)\n",
    "}\n",
    "\n",
    "ridge_c = RidgeClassifier(random_state=11)\n",
    "\n",
    "search(ridge_c, ridge_params)\n",
    "''';"
   ]
  },
  {
   "cell_type": "markdown",
   "id": "b432f9e4",
   "metadata": {},
   "source": [
    "RidgeClassifier \n",
    "\n",
    "Best parameters: {'max_iter': 115, 'alpha': 48.89750953175798} \n",
    "\n",
    "Best score: 0.4988057825267128 \n"
   ]
  }
 ],
 "metadata": {
  "kernelspec": {
   "display_name": "Python 3",
   "language": "python",
   "name": "python3"
  },
  "language_info": {
   "codemirror_mode": {
    "name": "ipython",
    "version": 3
   },
   "file_extension": ".py",
   "mimetype": "text/x-python",
   "name": "python",
   "nbconvert_exporter": "python",
   "pygments_lexer": "ipython3",
   "version": "3.8.8"
  }
 },
 "nbformat": 4,
 "nbformat_minor": 5
}
